{
 "cells": [
  {
   "cell_type": "code",
   "execution_count": 1,
   "metadata": {},
   "outputs": [],
   "source": [
    "from collections import defaultdict\n",
    "import json\n",
    "import numpy as np\n",
    "import os\n",
    "import pandas as pd"
   ]
  },
  {
   "cell_type": "code",
   "execution_count": 2,
   "metadata": {},
   "outputs": [],
   "source": [
    "import plotting_utils\n",
    "import matplotlib.pyplot as plt\n",
    "import seaborn as sns\n",
    "\n",
    "plotting_utils.setup_plotting_params()"
   ]
  },
  {
   "cell_type": "code",
   "execution_count": 3,
   "metadata": {},
   "outputs": [],
   "source": [
    "RUNDIR = \"../../benchmarking/benchmark_output/runs/latest\""
   ]
  },
  {
   "cell_type": "code",
   "execution_count": 4,
   "metadata": {},
   "outputs": [],
   "source": [
    "num_gpus = {\n",
    "    \"gooseai_gpt-j-6b\": 1,\n",
    "    \"together_gpt-j-6b\": 1,\n",
    "    \"gooseai_gpt-neo-20b\": 1,\n",
    "    \"together_gpt-neox-20b\": 1,\n",
    "    \"openai_ada\": 1,\n",
    "    \"openai_curie\": 1,\n",
    "    \"openai_davinci\": 8,\n",
    "    \"together_opt-175b\": 8,\n",
    "    \"ai21_j1-large\": 1,\n",
    "    \"ai21_j1-grande\": 1,\n",
    "    \"ai21_j1-jumbo\": 8,\n",
    "    \"mt_nlg\": 24,\n",
    "    \"anthropic_stanford-online-all-v4-s3\": 4,\n",
    "    \"together_bloom\": 8,\n",
    "    \"together_opt-66b\": 4,\n",
    "    \"together_yalm\": 4,\n",
    "}\n",
    "colors = {\n",
    "    \"together_gpt-j-6b\": 'orange',\n",
    "    \"together_gpt-neox-20b\": 'brown',\n",
    "    \"openai_davinci\": 'blue',\n",
    "    \"together_opt-175b\": 'green',\n",
    "    \"ai21_j1-large\": 'pink',\n",
    "    \"ai21_j1-grande\": 'purple',\n",
    "    \"ai21_j1-jumbo\": 'grey',\n",
    "    \"mt_nlg\": 'black',\n",
    "    \"anthropic_stanford-online-all-v4-s3\": 'magenta',\n",
    "    \"together_bloom\": 'red',\n",
    "    \"together_opt-66b\": 'aqua',\n",
    "    \"together_yalm\": 'skyblue',\n",
    "}\n",
    "model_configs = {\n",
    "    \"gooseai_gpt-j-6b\": (4096, 28),\n",
    "    \"together_gpt-j-6b\": (4096, 28),\n",
    "    \"gooseai_gpt-neo-20b\": (6144, 44),\n",
    "    \"together_gpt-neox-20b\": (6144, 44),\n",
    "    \"openai_ada\": (1024, 24),\n",
    "    \"openai_curie\": (4096, 32),\n",
    "    \"openai_davinci\": (12288, 96),\n",
    "    \"together_opt-175b\": (12288, 96),\n",
    "    \"ai21_j1-large\": (4096, 32),\n",
    "    \"ai21_j1-grande\": (5120, 50),\n",
    "    \"ai21_j1-jumbo\": (13824, 76),\n",
    "    \"mt_nlg\": (20480, 105),\n",
    "    \"anthropic_stanford-online-all-v4-s3\": (8192, 64),\n",
    "    \"together_bloom\": (14336, 70),\n",
    "    \"together_opt-66b\": (9216, 64),\n",
    "    \"together_yalm\": (10240, 80),\n",
    "} \n",
    "names = {\n",
    "    \"together_gpt-j-6b\": 'GPT-J',\n",
    "    \"together_gpt-neox-20b\": 'GPT-NeoX',\n",
    "    \"openai_curie\": 'OpenAI/curie',\n",
    "    \"openai_davinci\": 'OpenAI/davinci',\n",
    "    \"together_opt-175b\": 'OPT (175B)',\n",
    "    \"ai21_j1-large\": 'AI21/J1-Large',\n",
    "    \"ai21_j1-grande\": 'AI21/J1-Grande',\n",
    "    \"ai21_j1-jumbo\": 'AI21/J1-Jumbo',\n",
    "    \"mt_nlg\": 'Microsoft/NLG-530B',\n",
    "    \"anthropic_stanford-online-all-v4-s3\": 'Anthropic',\n",
    "    \"together_bloom\": 'BLOOM',\n",
    "    \"together_opt-66b\": 'OPT (66B)',\n",
    "    \"together_yalm\": 'YALM',\n",
    "}\n",
    "# Using GCP price: https://cloud.google.com/compute/vm-instance-pricing#a2-machine-types.\n",
    "# Using GCP because AWS and Azure only seem to provide 8-A100 GPU machines.\n",
    "cost_of_a100_gpu_per_hour = 3.67"
   ]
  },
  {
   "cell_type": "code",
   "execution_count": 5,
   "metadata": {},
   "outputs": [],
   "source": [
    "class Run:\n",
    "    def __init__(self, key):\n",
    "        scenario, args = key.split(\":\")\n",
    "        args = args.split(\",\")\n",
    "        self.scenario = scenario\n",
    "        for arg in args:\n",
    "            k, v = arg.split(\"=\")\n",
    "            setattr(self, k, v)\n",
    "            \n",
    "        self.runtimes = []\n",
    "        self.idealized_runtimes = []\n",
    "        self.denoised_runtimes = []\n",
    "        self.idealized_costs = []\n",
    "        self.exact_match = []\n",
    "        self.num_prompt_tokens = []\n",
    "        self.num_output_tokens = []\n",
    "        self.flops = []\n",
    "        with open(os.path.join(RUNDIR, key, \"per_instance_stats.json\"), \"r\") as f:\n",
    "            all_instance_stats = json.load(f)\n",
    "            for per_instance_stats in all_instance_stats:\n",
    "                stats = per_instance_stats[\"stats\"]\n",
    "                for stat in stats:\n",
    "                    if stat[\"name\"][\"name\"] == \"inference_runtime\":\n",
    "                        self.runtimes.append(float(stat[\"mean\"]))\n",
    "                    elif stat[\"name\"][\"name\"] == \"inference_denoised_runtime\":\n",
    "                        self.denoised_runtimes.append(float(stat[\"mean\"]))\n",
    "                    elif stat[\"name\"][\"name\"] == \"inference_idealized_runtime\":\n",
    "                        if stat[\"count\"] > 0:\n",
    "                            self.idealized_runtimes.append(float(stat[\"mean\"]))\n",
    "                            if self.model in num_gpus:\n",
    "                                self.idealized_costs.append(\n",
    "                                    self.idealized_runtimes[-1] * cost_of_a100_gpu_per_hour *\n",
    "                                    num_gpus[self.model] / 36.0)\n",
    "                    elif stat[\"name\"][\"name\"] == \"exact_match\":\n",
    "                        self.exact_match.append(stat[\"mean\"])\n",
    "                    elif stat[\"name\"][\"name\"] == \"num_prompt_tokens\":\n",
    "                        self.num_prompt_tokens.append(stat[\"mean\"])\n",
    "                    elif stat[\"name\"][\"name\"] == \"num_output_tokens\":\n",
    "                        self.num_output_tokens.append(stat[\"mean\"])\n",
    "        for (num_prompt_tokens, num_output_tokens) in zip(\n",
    "            self.num_prompt_tokens, self.num_output_tokens):\n",
    "            if self.model not in model_configs:\n",
    "                self.flops.append(None)\n",
    "            else:\n",
    "                (h, num_layers) = model_configs[self.model]\n",
    "                flops = 24 * h**2 * (num_prompt_tokens + num_output_tokens - 1) * num_layers\n",
    "                self.flops.append(flops)"
   ]
  },
  {
   "cell_type": "code",
   "execution_count": 6,
   "metadata": {},
   "outputs": [],
   "source": [
    "runs = []\n",
    "for run_key in os.listdir(RUNDIR):\n",
    "    if (\n",
    "        run_key.startswith(\"mmlu:subject=college_chemistry\")\n",
    "        or run_key.startswith(\"imdb\")\n",
    "        or run_key.startswith(\"raft:subset=terms_of_service\")\n",
    "        or run_key.startswith(\"boolq\")\n",
    "    ):\n",
    "        if \"only_contrast\" in run_key:\n",
    "            continue\n",
    "        run = Run(run_key)\n",
    "        if (\n",
    "            run.model == \"together_gpt-neox-20b\"\n",
    "            or run.model == \"openai_ada\"\n",
    "            or run.model == \"together_opt-66b\"\n",
    "            or run.model == \"openai_curie\"\n",
    "        ):\n",
    "            continue\n",
    "        runs.append(Run(run_key))"
   ]
  },
  {
   "cell_type": "code",
   "execution_count": 7,
   "metadata": {},
   "outputs": [],
   "source": [
    "runs_grouped_by_scenario = defaultdict(list)\n",
    "for run in runs:\n",
    "    if run.scenario == \"mmlu\":\n",
    "        scenario = f\"mmlu:subject={run.subject}\"\n",
    "    elif run.scenario == \"raft\":\n",
    "        scenario = f\"raft:subset={run.subset}\"\n",
    "    elif run.scenario == \"natural_qa\":\n",
    "        scenario = f\"natural_qa:model={run.mode}\"\n",
    "    elif run.scenario == \"civil_comments\":\n",
    "        scenario = f\"civil_comments:demographic={run.demographic}\"\n",
    "    elif run.scenario == \"babi_qa\":\n",
    "        scenario = f\"babi_qa:task={run.task}\"\n",
    "    elif run.scenario == \"entity_matching\":\n",
    "        scenario = f\"entity_matching:dataset={run.dataset}\"\n",
    "    elif run.scenario == \"synthetic_reasoning\":\n",
    "        scenario = f\"synthetic_reasoning:mode={run.mode}\"\n",
    "    elif run.scenario == \"imdb\" or run.scenario == 'boolq':\n",
    "        if getattr(run, 'only_contrast', None) is None:\n",
    "            scenario = run.scenario\n",
    "        else:\n",
    "            scenario = f\"{run.scenario}:only_contrast={getattr(run, 'only_contrast')}\"\n",
    "    else:\n",
    "        scenario = run.scenario\n",
    "    runs_grouped_by_scenario[scenario].append(run)"
   ]
  },
  {
   "cell_type": "code",
   "execution_count": 8,
   "metadata": {},
   "outputs": [],
   "source": [
    "rankings_per_scenario = {}\n",
    "for scenario in runs_grouped_by_scenario:\n",
    "    scores = []\n",
    "    for run in runs_grouped_by_scenario[scenario]:\n",
    "        accuracy = np.mean(run.exact_match)\n",
    "        if len(run.exact_match) == 0 or len(run.idealized_runtimes) == 0:\n",
    "            continue\n",
    "        idealized_runtime = np.mean(run.idealized_runtimes)\n",
    "        scores.append((run.model, accuracy / idealized_runtime))\n",
    "    scores.sort(key=lambda x: x[1], reverse=True)\n",
    "    rankings_per_scenario[scenario] = scores"
   ]
  },
  {
   "cell_type": "code",
   "execution_count": 9,
   "metadata": {},
   "outputs": [
    {
     "name": "stdout",
     "output_type": "stream",
     "text": [
      "raft:subset=terms_of_service\n",
      "[('ai21_j1-grande', 3.6068160699545118), ('together_gpt-j-6b', 2.0734766502737534), ('ai21_j1-jumbo', 1.9801722881994919), ('anthropic_stanford-online-all-v4-s3', 1.907101965339008), ('ai21_j1-large', 1.7302047284994575), ('openai_davinci', 0.7710201537677497), ('together_bloom', 0.4446831821563547), ('together_yalm', 0.26220538441696717), ('together_opt-175b', 0.22515830580766405)]\n",
      "\n",
      "imdb\n",
      "[('ai21_j1-large', 7.391697528156975), ('together_gpt-j-6b', 4.344975197315889), ('ai21_j1-grande', 3.4569004470996108), ('anthropic_stanford-online-all-v4-s3', 2.689556502978986), ('ai21_j1-jumbo', 2.110861076554773), ('together_bloom', 1.112016584335111), ('together_opt-175b', 1.0795524875045979), ('openai_davinci', 1.0191515104985185), ('together_yalm', 0.4848972299898609)]\n",
      "\n",
      "mmlu:subject=college_chemistry\n",
      "[('ai21_j1-large', 6.747977150275187), ('together_gpt-j-6b', 4.3678433075541365), ('anthropic_stanford-online-all-v4-s3', 3.25850331398548), ('ai21_j1-grande', 2.3601756283942104), ('together_opt-175b', 1.4154691683927714), ('ai21_j1-jumbo', 1.398170317908225), ('openai_davinci', 1.3077704273194084), ('together_bloom', 0.9577034720213218), ('together_yalm', 0.7403479592375024)]\n",
      "\n",
      "boolq\n",
      "[('ai21_j1-large', 5.862780180991339), ('together_gpt-j-6b', 3.6616374649664993), ('anthropic_stanford-online-all-v4-s3', 3.487377600080395), ('ai21_j1-grande', 3.1218834209555335), ('ai21_j1-jumbo', 1.648118344095308), ('together_bloom', 1.078997984723028), ('together_opt-175b', 1.0094134954460419), ('openai_davinci', 0.996951600440535), ('together_yalm', 0.5211599560713617)]\n",
      "\n"
     ]
    }
   ],
   "source": [
    "for scenario in rankings_per_scenario:\n",
    "    print(scenario)\n",
    "    print(rankings_per_scenario[scenario])\n",
    "    print()"
   ]
  },
  {
   "cell_type": "code",
   "execution_count": 10,
   "metadata": {},
   "outputs": [
    {
     "name": "stdout",
     "output_type": "stream",
     "text": [
      "raft:subset=terms_of_service\n",
      "[0, 6, 1, 3, 2, 4, 5, 8, 7]\n",
      "\n",
      "imdb\n",
      "[2, 6, 0, 3, 1, 5, 7, 4, 8]\n",
      "\n",
      "mmlu:subject=college_chemistry\n",
      "[2, 6, 3, 0, 7, 1, 4, 5, 8]\n",
      "\n",
      "boolq\n",
      "[2, 6, 3, 0, 1, 5, 7, 4, 8]\n",
      "\n",
      "raft:subset=terms_of_service\n",
      "['ai21_j1-grande', 'together_gpt-j-6b', 'ai21_j1-jumbo', 'anthropic_stanford-online-all-v4-s3', 'ai21_j1-large', 'openai_davinci', 'together_bloom', 'together_yalm', 'together_opt-175b']\n",
      "\n",
      "imdb\n",
      "['ai21_j1-large', 'together_gpt-j-6b', 'ai21_j1-grande', 'anthropic_stanford-online-all-v4-s3', 'ai21_j1-jumbo', 'together_bloom', 'together_opt-175b', 'openai_davinci', 'together_yalm']\n",
      "\n",
      "mmlu:subject=college_chemistry\n",
      "['ai21_j1-large', 'together_gpt-j-6b', 'anthropic_stanford-online-all-v4-s3', 'ai21_j1-grande', 'together_opt-175b', 'ai21_j1-jumbo', 'openai_davinci', 'together_bloom', 'together_yalm']\n",
      "\n",
      "boolq\n",
      "['ai21_j1-large', 'together_gpt-j-6b', 'anthropic_stanford-online-all-v4-s3', 'ai21_j1-grande', 'ai21_j1-jumbo', 'together_bloom', 'together_opt-175b', 'openai_davinci', 'together_yalm']\n",
      "\n"
     ]
    }
   ],
   "source": [
    "all_models = set()\n",
    "for scenario in rankings_per_scenario:\n",
    "    for (model, score) in rankings_per_scenario[scenario]:\n",
    "        all_models.add(model)\n",
    "model_ids = {model: i for i, model in enumerate(sorted(all_models))}\n",
    "numerical_rankings_per_scenario = {}\n",
    "string_rankings_per_scenario = {}\n",
    "for scenario in rankings_per_scenario:\n",
    "    numerical_rankings_per_scenario[scenario] = [model_ids[model] for model, _ in rankings_per_scenario[scenario]]\n",
    "    string_rankings_per_scenario[scenario] = [model for model, _ in rankings_per_scenario[scenario]]\n",
    "    print(scenario)\n",
    "    print(numerical_rankings_per_scenario[scenario])\n",
    "    print()\n",
    "for scenario in rankings_per_scenario:\n",
    "    print(scenario)\n",
    "    print(string_rankings_per_scenario[scenario])\n",
    "    print()"
   ]
  },
  {
   "cell_type": "code",
   "execution_count": 12,
   "metadata": {},
   "outputs": [
    {
     "name": "stdout",
     "output_type": "stream",
     "text": [
      "0) model=together_gpt-j-6b, min rank = 1, mean rank=1.0, max rank=1, std=0.0\n",
      "1) model=ai21_j1-large, min rank = 0, mean rank=1.0, max rank=4, std=1.7320508075688772\n",
      "2) model=ai21_j1-grande, min rank = 0, mean rank=2.0, max rank=3, std=1.224744871391589\n",
      "3) model=anthropic_stanford-online-all-v4-s3, min rank = 2, mean rank=2.5, max rank=3, std=0.5\n",
      "4) model=ai21_j1-jumbo, min rank = 2, mean rank=3.75, max rank=5, std=1.0897247358851685\n",
      "5) model=together_bloom, min rank = 5, mean rank=5.75, max rank=7, std=0.82915619758885\n",
      "6) model=together_opt-175b, min rank = 4, mean rank=6.0, max rank=8, std=1.4142135623730951\n",
      "7) model=openai_davinci, min rank = 5, mean rank=6.25, max rank=7, std=0.82915619758885\n",
      "8) model=together_yalm, min rank = 7, mean rank=7.75, max rank=8, std=0.4330127018922193\n"
     ]
    }
   ],
   "source": [
    "rank_per_model = defaultdict(list)\n",
    "for model in model_ids:\n",
    "    for scenario in numerical_rankings_per_scenario:\n",
    "        rank_per_model[model].append(\n",
    "            numerical_rankings_per_scenario[scenario].index(model_ids[model])\n",
    "        )\n",
    "ranks = []\n",
    "for model in rank_per_model:\n",
    "    ranks.append(\n",
    "        (\n",
    "            model,\n",
    "            np.min(rank_per_model[model]),\n",
    "            np.mean(rank_per_model[model]),\n",
    "            np.max(rank_per_model[model]),\n",
    "            np.std(rank_per_model[model]),\n",
    "        )\n",
    "    )\n",
    "ranks.sort(key=lambda x: (x[2], x[4]))\n",
    "for i, (model, min_rank, mean_rank, max_rank, std) in enumerate(ranks):\n",
    "    print(\n",
    "        f\"{i}) model={model}, min rank = {min_rank}, mean rank={mean_rank}, max rank={max_rank}, std={std}\"\n",
    "    )"
   ]
  },
  {
   "cell_type": "code",
   "execution_count": 13,
   "metadata": {},
   "outputs": [
    {
     "name": "stdout",
     "output_type": "stream",
     "text": [
      "[('together_yalm', 7, 7.75, 8, 0.4330127018922193), ('openai_davinci', 5, 6.25, 7, 0.82915619758885), ('together_opt-175b', 4, 6.0, 8, 1.4142135623730951), ('together_bloom', 5, 5.75, 7, 0.82915619758885), ('ai21_j1-jumbo', 2, 3.75, 5, 1.0897247358851685), ('anthropic_stanford-online-all-v4-s3', 2, 2.5, 3, 0.5), ('ai21_j1-grande', 0, 2.0, 3, 1.224744871391589), ('ai21_j1-large', 0, 1.0, 4, 1.7320508075688772), ('together_gpt-j-6b', 1, 1.0, 1, 0.0)]\n"
     ]
    }
   ],
   "source": [
    "print(ranks[::-1])"
   ]
  },
  {
   "cell_type": "code",
   "execution_count": 14,
   "metadata": {},
   "outputs": [
    {
     "data": {
      "text/plain": [
       "<matplotlib.legend.Legend at 0x7f6d202e8f60>"
      ]
     },
     "execution_count": 14,
     "metadata": {},
     "output_type": "execute_result"
    },
    {
     "data": {
      "image/png": "[encoded data removed]",
      "text/plain": [
       "<Figure size 540x288 with 1 Axes>"
      ]
     },
     "metadata": {},
     "output_type": "display_data"
    }
   ],
   "source": [
    "plt.figure(figsize=(7.5, 4))\n",
    "labels = [\"RAFT\", \"BoolQ\", \"IMDB\", \"MMLU\"]\n",
    "colors = plt.rcParams[\"axes.prop_cycle\"].by_key()[\"color\"][:4]\n",
    "markers = [\"o\", \"^\", \"s\", \"P\"]\n",
    "model_display_names = {\n",
    "    \"together_yalm\": \"YALM\",\n",
    "    \"openai_davinci\": \"davinci\",\n",
    "    \"together_opt-175b\": \"OPT-175B\",\n",
    "    \"ai21_j1-grande\": \"J1-Grande\",\n",
    "    \"ai21_j1-large\": \"J1-Large\",\n",
    "    \"ai21_j1-jumbo\": \"J1-Jumbo\",\n",
    "    \"anthropic_stanford-online-all-v4-s3\": \"Anthropic\",\n",
    "    \"together_gpt-j-6b\": \"GPT-J\",\n",
    "    \"together_bloom\": \"BLOOM\",\n",
    "}\n",
    "for i, data in enumerate(ranks[::-1]):\n",
    "    model = data[0]\n",
    "    for j, scenario in enumerate(list(numerical_rankings_per_scenario.keys())):\n",
    "        if i == len(ranks) - 1:\n",
    "            plt.scatter(\n",
    "                rank_per_model[model][j] + 1,\n",
    "                i,\n",
    "                label=labels[j],\n",
    "                marker=markers[j],\n",
    "                color=colors[j],\n",
    "            )\n",
    "        else:\n",
    "            plt.scatter(\n",
    "                rank_per_model[model][j] + 1,\n",
    "                i,\n",
    "                marker=markers[j],\n",
    "                color=colors[j],\n",
    "            )\n",
    "plt.yticks(\n",
    "    list(range(len(ranks))), [model_display_names[data[0]] for data in ranks[::-1]]\n",
    ")\n",
    "plt.xlabel(\"Rank (EM / Idealized Runtime)\")\n",
    "plt.xticks(list(range(1, len(ranks) + 1)))\n",
    "plt.legend()"
   ]
  },
  {
   "cell_type": "code",
   "execution_count": null,
   "metadata": {},
   "outputs": [],
   "source": []
  }
 ],
 "metadata": {
  "kernelspec": {
   "display_name": "Python 3",
   "language": "python",
   "name": "python3"
  },
  "language_info": {
   "codemirror_mode": {
    "name": "ipython",
    "version": 3
   },
   "file_extension": ".py",
   "mimetype": "text/x-python",
   "name": "python",
   "nbconvert_exporter": "python",
   "pygments_lexer": "ipython3",
   "version": "3.7.3"
  }
 },
 "nbformat": 4,
 "nbformat_minor": 4
}
