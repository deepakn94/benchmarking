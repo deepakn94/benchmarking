{
 "cells": [
  {
   "cell_type": "code",
   "execution_count": 1,
   "metadata": {},
   "outputs": [],
   "source": [
    "import numpy as np\n",
    "import os\n",
    "import json\n",
    "import tqdm\n",
    "import re"
   ]
  },
  {
   "cell_type": "code",
   "execution_count": 2,
   "metadata": {},
   "outputs": [],
   "source": [
    "LOGS_PATH = \"/lfs/1/keshav2/helm-efficiency/logs\""
   ]
  },
  {
   "cell_type": "code",
   "execution_count": 3,
   "metadata": {
    "scrolled": false
   },
   "outputs": [
    {
     "name": "stderr",
     "output_type": "stream",
     "text": [
      "100%|██████████| 112/112 [00:36<00:00,  3.03it/s]\n"
     ]
    }
   ],
   "source": [
    "data = []\n",
    "datadir = os.path.join(LOGS_PATH, \"v7_subset\")\n",
    "for subdir in tqdm.tqdm(os.listdir(datadir)):\n",
    "    with open(os.path.join(datadir, subdir, \"per_instance_stats.json\"), \"r\") as f:\n",
    "        stats = json.load(f)\n",
    "        for stat in stats:\n",
    "            num_prompt_tokens = None\n",
    "            num_output_tokens = None\n",
    "            idealized_runtime = None\n",
    "            counter = 0\n",
    "            for metric in stat[\"stats\"]:\n",
    "                if metric[\"name\"][\"name\"] == \"num_prompt_tokens\":\n",
    "                    num_prompt_tokens = metric[\"sum\"]\n",
    "                    counter += 1\n",
    "                elif metric[\"name\"][\"name\"] == \"num_output_tokens\":\n",
    "                    num_output_tokens = metric[\"sum\"]\n",
    "                    counter += 1\n",
    "                elif metric[\"name\"][\"name\"] == \"inference_idealized_runtime\":\n",
    "                    counter += 1\n",
    "                    idealized_runtime = metric[\"sum\"]\n",
    "                if counter == 3:\n",
    "                    break\n",
    "            if num_prompt_tokens is None or num_output_tokens is None:\n",
    "                continue\n",
    "            data.append((num_prompt_tokens, num_output_tokens, idealized_runtime))"
   ]
  },
  {
   "cell_type": "code",
   "execution_count": 4,
   "metadata": {},
   "outputs": [],
   "source": [
    "def api_cost(num_prompt_tokens, num_output_tokens, num_trials, per_token_costs):\n",
    "    input_cost = per_token_costs[\"input\"] * num_prompt_tokens / 1000\n",
    "    output_cost = per_token_costs[\"output\"] * num_output_tokens / 1000\n",
    "    return num_trials * (input_cost + output_cost)"
   ]
  },
  {
   "cell_type": "code",
   "execution_count": 5,
   "metadata": {},
   "outputs": [],
   "source": [
    "def local_cost(runtime, num_trials, hardware_cost):\n",
    "    return runtime * num_trials * hardware_cost / 60 / 60"
   ]
  },
  {
   "cell_type": "code",
   "execution_count": 6,
   "metadata": {},
   "outputs": [],
   "source": [
    "def parse_calibration_log(path):\n",
    "    runtime = 0.0\n",
    "    with open(path, \"r\") as f:\n",
    "        for line in f:\n",
    "            match = re.search(\"([-+]?[0-9]*\\.?[0-9]+) seconds\", line)\n",
    "            if match is not None:\n",
    "                runtime += float(match.group(1))\n",
    "    return runtime"
   ]
  },
  {
   "cell_type": "code",
   "execution_count": 7,
   "metadata": {},
   "outputs": [],
   "source": [
    "def denoised_speedup(data):\n",
    "    num_api_trials = 10\n",
    "    num_local_trials = 50\n",
    "    calibration_time = parse_calibration_log(\n",
    "        os.path.join(LOGS_PATH, \"a100\", \"openai_davinci.log\")\n",
    "    )\n",
    "    davinci_costs = {\"input\": 0.0015, \"output\": 0.002}\n",
    "    hardware_cost = 40.96\n",
    "    baseline = sum([api_cost(x, y, num_api_trials, davinci_costs) for (x, y, _) in data])\n",
    "    denoised = local_cost(calibration_time, num_local_trials, hardware_cost) + sum(\n",
    "        [api_cost(x, y, 1, davinci_costs) for (x, y, _) in data]\n",
    "    )\n",
    "    print(f\"Baseline cost: ${baseline:.2f}\")\n",
    "    print(f\"Denoised cost: ${denoised:.2f}\")\n",
    "    print(f\"Savings: {baseline / denoised:.2f}x\")"
   ]
  },
  {
   "cell_type": "code",
   "execution_count": 8,
   "metadata": {},
   "outputs": [
    {
     "name": "stdout",
     "output_type": "stream",
     "text": [
      "Baseline cost: $4176.34\n",
      "Denoised cost: $711.97\n",
      "Savings: 5.87x\n"
     ]
    }
   ],
   "source": [
    "denoised_speedup(data)"
   ]
  },
  {
   "cell_type": "code",
   "execution_count": 9,
   "metadata": {},
   "outputs": [],
   "source": [
    "def idealized_speedup(data):\n",
    "    data = [(x, y, z) for (x, y, z) in data if z is not None]\n",
    "    num_api_trials = 10\n",
    "    num_local_trials = 50\n",
    "    calibration_time = parse_calibration_log(\n",
    "        os.path.join(LOGS_PATH, \"a100\", \"openai_davinci.log\")\n",
    "    )\n",
    "    davinci_costs = {\"input\": 0.0015, \"output\": 0.002}\n",
    "    hardware_cost = 40.96\n",
    "    baseline = sum(\n",
    "        [local_cost(z, num_local_trials, hardware_cost) for (_, _, z) in data]\n",
    "    ) + sum([api_cost(x, y, 1, davinci_costs) for (x, y, z) in data])\n",
    "    idealized = local_cost(calibration_time, num_local_trials, hardware_cost) + sum(\n",
    "        [api_cost(x, y, 1, davinci_costs) for (x, y, z) in data]\n",
    "    )\n",
    "    print(f\"Baseline cost: ${baseline:.2f}\")\n",
    "    print(f\"Idealized cost: ${idealized:.2f}\")\n",
    "    print(f\"Savings: {baseline / idealized:.2f}x\")"
   ]
  },
  {
   "cell_type": "code",
   "execution_count": 10,
   "metadata": {},
   "outputs": [
    {
     "name": "stdout",
     "output_type": "stream",
     "text": [
      "Baseline cost: $31128.26\n",
      "Idealized cost: $545.24\n",
      "Savings: 57.09x\n"
     ]
    }
   ],
   "source": [
    "idealized_speedup(data)"
   ]
  },
  {
   "cell_type": "code",
   "execution_count": null,
   "metadata": {},
   "outputs": [],
   "source": []
  }
 ],
 "metadata": {
  "kernelspec": {
   "display_name": "Python 3",
   "language": "python",
   "name": "python3"
  },
  "language_info": {
   "codemirror_mode": {
    "name": "ipython",
    "version": 3
   },
   "file_extension": ".py",
   "mimetype": "text/x-python",
   "name": "python",
   "nbconvert_exporter": "python",
   "pygments_lexer": "ipython3",
   "version": "3.7.7"
  }
 },
 "nbformat": 4,
 "nbformat_minor": 2
}
