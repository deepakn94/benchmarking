{
 "cells": [
  {
   "cell_type": "code",
   "execution_count": 1,
   "metadata": {},
   "outputs": [],
   "source": [
    "from collections import namedtuple\n",
    "import itertools\n",
    "import json\n",
    "import numpy as np\n",
    "import os\n",
    "import re\n",
    "import tqdm"
   ]
  },
  {
   "cell_type": "code",
   "execution_count": 2,
   "metadata": {},
   "outputs": [],
   "source": [
    "LOGS_PATH = \"/lfs/1/keshav2/helm-efficiency/logs\""
   ]
  },
  {
   "cell_type": "code",
   "execution_count": 3,
   "metadata": {},
   "outputs": [],
   "source": [
    "Query = namedtuple(\"Query\", (\"num_prompt_tokens\", \"num_output_tokens\", \"runtime\", \"api\"))"
   ]
  },
  {
   "cell_type": "code",
   "execution_count": 4,
   "metadata": {
    "scrolled": false
   },
   "outputs": [],
   "source": [
    "def parse_api_logs(datadir):\n",
    "    queries = []\n",
    "    for subdir in tqdm.tqdm(os.listdir(datadir)):\n",
    "        with open(os.path.join(datadir, subdir, \"per_instance_stats.json\"), \"r\") as f:\n",
    "            stats = json.load(f)\n",
    "            for stat in stats:\n",
    "                num_prompt_tokens = None\n",
    "                num_output_tokens = None\n",
    "                idealized_runtime = None\n",
    "                counter = 0\n",
    "                for metric in stat[\"stats\"]:\n",
    "                    if metric[\"name\"][\"name\"] == \"num_prompt_tokens\":\n",
    "                        num_prompt_tokens = metric[\"sum\"]\n",
    "                        counter += 1\n",
    "                    elif metric[\"name\"][\"name\"] == \"num_output_tokens\":\n",
    "                        num_output_tokens = metric[\"sum\"]\n",
    "                        counter += 1\n",
    "                    elif metric[\"name\"][\"name\"] == \"inference_idealized_runtime\":\n",
    "                        counter += 1\n",
    "                        idealized_runtime = metric[\"sum\"]\n",
    "                    if counter == 3:\n",
    "                        break\n",
    "                if num_prompt_tokens is None or num_output_tokens is None:\n",
    "                    continue\n",
    "                queries.append(\n",
    "                    Query(num_prompt_tokens, num_output_tokens, idealized_runtime, True)\n",
    "                )\n",
    "    return queries"
   ]
  },
  {
   "cell_type": "code",
   "execution_count": 5,
   "metadata": {},
   "outputs": [],
   "source": [
    "def compute_api_cost(num_prompt_tokens, num_output_tokens, num_trials, per_token_costs):\n",
    "    input_cost = per_token_costs[\"input\"] * num_prompt_tokens / 1000\n",
    "    output_cost = per_token_costs[\"output\"] * num_output_tokens / 1000\n",
    "    return num_trials * (input_cost + output_cost)"
   ]
  },
  {
   "cell_type": "code",
   "execution_count": 6,
   "metadata": {},
   "outputs": [],
   "source": [
    "def compute_local_cost(runtime, num_trials, hardware_cost):\n",
    "    return runtime * num_trials * hardware_cost / 60 / 60"
   ]
  },
  {
   "cell_type": "code",
   "execution_count": 7,
   "metadata": {},
   "outputs": [],
   "source": [
    "def parse_calibration_log(path):\n",
    "    calibration_queries = []\n",
    "    with open(path, \"r\") as f:\n",
    "        for line in f: \n",
    "            match = re.search(\".*: (\\d+),.*: (\\d+)}.*: ([-+]?[0-9]*\\.?[0-9]+)\", line)\n",
    "            if match is not None:\n",
    "                num_prompt_tokens = int(match.group(1))\n",
    "                num_output_tokens = int(match.group(2))\n",
    "                runtime = float(match.group(3))\n",
    "                calibration_queries.append(\n",
    "                    Query(num_prompt_tokens, num_output_tokens, runtime, False)\n",
    "                )\n",
    "    return calibration_queries"
   ]
  },
  {
   "cell_type": "code",
   "execution_count": 8,
   "metadata": {},
   "outputs": [],
   "source": [
    "def denoised_savings(\n",
    "    queries,\n",
    "    calibration_queries,\n",
    "    api_costs,\n",
    "    hardware_cost,\n",
    "    num_api_trials=10,\n",
    "    num_local_trials=50,\n",
    "):\n",
    "    baseline = sum(\n",
    "        [\n",
    "            compute_api_cost(\n",
    "                q.num_prompt_tokens, q.num_output_tokens, num_api_trials, api_costs\n",
    "            )\n",
    "            for q in queries\n",
    "        ]\n",
    "    )\n",
    "    calibration_cost = sum(\n",
    "        [\n",
    "            compute_api_cost(\n",
    "                q.num_prompt_tokens, q.num_output_tokens, num_api_trials, api_costs\n",
    "            )\n",
    "            for q in calibration_queries\n",
    "        ]\n",
    "    )\n",
    "    api_cost = sum(\n",
    "        [\n",
    "            compute_api_cost(q.num_prompt_tokens, q.num_output_tokens, 1, api_costs)\n",
    "            for q in queries\n",
    "        ]\n",
    "    )\n",
    "    denoised = calibration_cost + api_cost\n",
    "    print(f\"Baseline cost: ${baseline:.2f}\")\n",
    "    print(f\"Denoised cost: ${calibration_cost:.2f} + ${api_cost:.2f} = ${denoised:.2f}\")\n",
    "    print(f\"Savings: {baseline / denoised:.2f}x\")"
   ]
  },
  {
   "cell_type": "code",
   "execution_count": 9,
   "metadata": {},
   "outputs": [],
   "source": [
    "def idealized_savings(\n",
    "    queries,\n",
    "    calibration_queries,\n",
    "    api_costs,\n",
    "    hardware_cost,\n",
    "    num_api_trials=10,\n",
    "    num_local_trials=50,\n",
    "):\n",
    "    # Filter out queries which do not have an idealized runtime estimate\n",
    "    queries = [q for q in queries if q.runtime is not None]\n",
    "\n",
    "    local_cost = sum(\n",
    "        [\n",
    "            compute_local_cost(q.runtime, num_local_trials, hardware_cost)\n",
    "            for q in queries\n",
    "        ]\n",
    "    )\n",
    "    api_cost = sum(\n",
    "        [\n",
    "            compute_api_cost(q.num_prompt_tokens, q.num_output_tokens, 1, api_costs)\n",
    "            for q in queries\n",
    "        ]\n",
    "    )\n",
    "    baseline = local_cost + api_cost\n",
    "\n",
    "    calibration_time = sum([q.runtime for q in calibration_queries])\n",
    "    calibration_cost = compute_local_cost(\n",
    "        calibration_time, num_local_trials, hardware_cost\n",
    "    )\n",
    "    idealized = calibration_cost + api_cost\n",
    "    print(f\"Baseline cost: ${local_cost:.2f} + ${api_cost:.2f} = ${baseline:.2f}\")\n",
    "    print(\n",
    "        f\"Idealized cost: ${calibration_cost:.2f} + ${api_cost:.2f} = ${idealized:.2f}\"\n",
    "    )\n",
    "    print(f\"Savings: {baseline / idealized:.2f}x\")"
   ]
  },
  {
   "cell_type": "code",
   "execution_count": 10,
   "metadata": {},
   "outputs": [
    {
     "name": "stderr",
     "output_type": "stream",
     "text": [
      "100%|██████████| 112/112 [00:43<00:00,  2.55it/s]\n"
     ]
    }
   ],
   "source": [
    "datadir = os.path.join(LOGS_PATH, \"v7_subset\")\n",
    "queries = parse_api_logs(datadir)"
   ]
  },
  {
   "cell_type": "code",
   "execution_count": 11,
   "metadata": {},
   "outputs": [],
   "source": [
    "path = os.path.join(LOGS_PATH, \"a100\", \"openai_davinci.log\")\n",
    "calibration_queries = parse_calibration_log(path)"
   ]
  },
  {
   "cell_type": "code",
   "execution_count": 12,
   "metadata": {},
   "outputs": [],
   "source": [
    "davinci_costs = {\n",
    "    \"input\": 0.0015,\n",
    "    \"output\": 0.002,\n",
    "}  # https://openai.com/pricing (GPT-3.5 Turbo 4K context)\n",
    "p4de24xlarge_cost = 40.96  # https://aws.amazon.com/ec2/instance-types/p4/"
   ]
  },
  {
   "cell_type": "code",
   "execution_count": 13,
   "metadata": {},
   "outputs": [
    {
     "name": "stdout",
     "output_type": "stream",
     "text": [
      "Baseline cost: $4176.34\n",
      "Denoised cost: $3.11 + $417.63 = $420.74\n",
      "Savings: 9.93x\n"
     ]
    }
   ],
   "source": [
    "denoised_savings(queries, calibration_queries, davinci_costs, p4de24xlarge_cost)"
   ]
  },
  {
   "cell_type": "code",
   "execution_count": 14,
   "metadata": {},
   "outputs": [
    {
     "name": "stdout",
     "output_type": "stream",
     "text": [
      "Baseline cost: $30877.35 + $250.91 = $31128.26\n",
      "Idealized cost: $291.16 + $250.91 = $542.07\n",
      "Savings: 57.42x\n"
     ]
    }
   ],
   "source": [
    "idealized_savings(queries, calibration_queries, davinci_costs, p4de24xlarge_cost)"
   ]
  },
  {
   "cell_type": "code",
   "execution_count": null,
   "metadata": {},
   "outputs": [],
   "source": []
  }
 ],
 "metadata": {
  "kernelspec": {
   "display_name": "Python 3",
   "language": "python",
   "name": "python3"
  },
  "language_info": {
   "codemirror_mode": {
    "name": "ipython",
    "version": 3
   },
   "file_extension": ".py",
   "mimetype": "text/x-python",
   "name": "python",
   "nbconvert_exporter": "python",
   "pygments_lexer": "ipython3",
   "version": "3.7.7"
  }
 },
 "nbformat": 4,
 "nbformat_minor": 2
}
